{
 "cells": [
  {
   "cell_type": "code",
   "execution_count": 1,
   "id": "54b293d4-7e95-4587-bfb4-24ab45ecb8a3",
   "metadata": {},
   "outputs": [],
   "source": [
    "import pandas as pd\n",
    "import pandahouse as ph\n",
    "import seaborn as sns\n",
    "import scipy.stats as stats"
   ]
  },
  {
   "cell_type": "markdown",
   "id": "5acdfe10-a9b4-49c7-be68-86a15e455582",
   "metadata": {},
   "source": [
    "## Загрузка и неформальная проверка данных"
   ]
  },
  {
   "cell_type": "code",
   "execution_count": 2,
   "id": "87b3d5ab-ffdc-4981-b95c-8721b7a00f4f",
   "metadata": {},
   "outputs": [],
   "source": [
    "# создаем подключение, проверяем, что связь есть, смотрим, что данные возвращаются адекватные\n",
    "connection = {'host': 'https://clickhouse.lab.karpov.courses',\n",
    "                      'database':'simulator_20220920',\n",
    "                      'user':'student', \n",
    "                      'password':'####'\n",
    "            }\n",
    "\n",
    "query = '''\n",
    "        select post_id, \n",
    "               countIf(action = 'view') as views, \n",
    "               countIf(action = 'like') as likes, \n",
    "               uniq(user_id) as uniq_users \n",
    "        from {db}.feed_actions \n",
    "        where toDate(time) = yesterday() \n",
    "        group by post_id \n",
    "        order by views desc \n",
    "        limit 10\n",
    "        '''\n",
    "\n",
    "df_0 = ph.read_clickhouse(query, connection=connection)"
   ]
  },
  {
   "cell_type": "code",
   "execution_count": 3,
   "id": "e83fcc64-afe5-4f84-bd1c-962be5220f36",
   "metadata": {},
   "outputs": [
    {
     "data": {
      "text/html": [
       "<div>\n",
       "<style scoped>\n",
       "    .dataframe tbody tr th:only-of-type {\n",
       "        vertical-align: middle;\n",
       "    }\n",
       "\n",
       "    .dataframe tbody tr th {\n",
       "        vertical-align: top;\n",
       "    }\n",
       "\n",
       "    .dataframe thead th {\n",
       "        text-align: right;\n",
       "    }\n",
       "</style>\n",
       "<table border=\"1\" class=\"dataframe\">\n",
       "  <thead>\n",
       "    <tr style=\"text-align: right;\">\n",
       "      <th></th>\n",
       "      <th>post_id</th>\n",
       "      <th>views</th>\n",
       "      <th>likes</th>\n",
       "      <th>uniq_users</th>\n",
       "    </tr>\n",
       "  </thead>\n",
       "  <tbody>\n",
       "    <tr>\n",
       "      <th>count</th>\n",
       "      <td>10.00000</td>\n",
       "      <td>10.000000</td>\n",
       "      <td>10.000000</td>\n",
       "      <td>10.000000</td>\n",
       "    </tr>\n",
       "    <tr>\n",
       "      <th>mean</th>\n",
       "      <td>6187.90000</td>\n",
       "      <td>15522.800000</td>\n",
       "      <td>4301.700000</td>\n",
       "      <td>11120.200000</td>\n",
       "    </tr>\n",
       "    <tr>\n",
       "      <th>std</th>\n",
       "      <td>34.95219</td>\n",
       "      <td>1697.394657</td>\n",
       "      <td>714.739743</td>\n",
       "      <td>814.269516</td>\n",
       "    </tr>\n",
       "    <tr>\n",
       "      <th>min</th>\n",
       "      <td>6103.00000</td>\n",
       "      <td>13644.000000</td>\n",
       "      <td>3453.000000</td>\n",
       "      <td>10195.000000</td>\n",
       "    </tr>\n",
       "    <tr>\n",
       "      <th>25%</th>\n",
       "      <td>6173.50000</td>\n",
       "      <td>14443.000000</td>\n",
       "      <td>3858.500000</td>\n",
       "      <td>10575.250000</td>\n",
       "    </tr>\n",
       "    <tr>\n",
       "      <th>50%</th>\n",
       "      <td>6200.00000</td>\n",
       "      <td>14910.000000</td>\n",
       "      <td>4095.500000</td>\n",
       "      <td>10837.500000</td>\n",
       "    </tr>\n",
       "    <tr>\n",
       "      <th>75%</th>\n",
       "      <td>6208.75000</td>\n",
       "      <td>16156.500000</td>\n",
       "      <td>4586.250000</td>\n",
       "      <td>11424.750000</td>\n",
       "    </tr>\n",
       "    <tr>\n",
       "      <th>max</th>\n",
       "      <td>6220.00000</td>\n",
       "      <td>19051.000000</td>\n",
       "      <td>5816.000000</td>\n",
       "      <td>12780.000000</td>\n",
       "    </tr>\n",
       "  </tbody>\n",
       "</table>\n",
       "</div>"
      ],
      "text/plain": [
       "          post_id         views        likes    uniq_users\n",
       "count    10.00000     10.000000    10.000000     10.000000\n",
       "mean   6187.90000  15522.800000  4301.700000  11120.200000\n",
       "std      34.95219   1697.394657   714.739743    814.269516\n",
       "min    6103.00000  13644.000000  3453.000000  10195.000000\n",
       "25%    6173.50000  14443.000000  3858.500000  10575.250000\n",
       "50%    6200.00000  14910.000000  4095.500000  10837.500000\n",
       "75%    6208.75000  16156.500000  4586.250000  11424.750000\n",
       "max    6220.00000  19051.000000  5816.000000  12780.000000"
      ]
     },
     "execution_count": 3,
     "metadata": {},
     "output_type": "execute_result"
    }
   ],
   "source": [
    "df_0.describe()"
   ]
  },
  {
   "cell_type": "markdown",
   "id": "f9ec9766-6fb0-47eb-a58f-092bd7ed91a9",
   "metadata": {
    "tags": []
   },
   "source": [
    "## Извлечение нужных групп, их предварительный анализ"
   ]
  },
  {
   "cell_type": "code",
   "execution_count": 4,
   "id": "2fb45582-b980-4393-8d41-e4200e0d611e",
   "metadata": {},
   "outputs": [],
   "source": [
    "# подключились к БД и выполнили запрос по извлечению всех пользователей в группе 2 и 3 в нужном временном интервале и информации по ним (ctr на каждого userа)\n",
    "q1 = \"\"\"\n",
    "    SELECT exp_group, \n",
    "        user_id,\n",
    "        sum(action = 'like') as likes,\n",
    "        sum(action = 'view') as views,\n",
    "        likes/views as ctr\n",
    "    FROM {db}.feed_actions \n",
    "    WHERE toDate(time) between '2022-08-27' and '2022-09-02'\n",
    "        and exp_group in (2,3)\n",
    "    GROUP BY exp_group, user_id\n",
    "    \"\"\"\n",
    "df = ph.read_clickhouse(q1, connection=connection)"
   ]
  },
  {
   "cell_type": "code",
   "execution_count": 5,
   "id": "ef70ff23-6a70-477c-968a-00b456b38c49",
   "metadata": {},
   "outputs": [
    {
     "data": {
      "text/html": [
       "<div>\n",
       "<style scoped>\n",
       "    .dataframe tbody tr th:only-of-type {\n",
       "        vertical-align: middle;\n",
       "    }\n",
       "\n",
       "    .dataframe tbody tr th {\n",
       "        vertical-align: top;\n",
       "    }\n",
       "\n",
       "    .dataframe thead th {\n",
       "        text-align: right;\n",
       "    }\n",
       "</style>\n",
       "<table border=\"1\" class=\"dataframe\">\n",
       "  <thead>\n",
       "    <tr style=\"text-align: right;\">\n",
       "      <th></th>\n",
       "      <th>user_id</th>\n",
       "      <th>likes</th>\n",
       "      <th>views</th>\n",
       "      <th>ctr</th>\n",
       "    </tr>\n",
       "    <tr>\n",
       "      <th>exp_group</th>\n",
       "      <th></th>\n",
       "      <th></th>\n",
       "      <th></th>\n",
       "      <th></th>\n",
       "    </tr>\n",
       "  </thead>\n",
       "  <tbody>\n",
       "    <tr>\n",
       "      <th>2</th>\n",
       "      <td>8480</td>\n",
       "      <td>8480</td>\n",
       "      <td>8480</td>\n",
       "      <td>8480</td>\n",
       "    </tr>\n",
       "    <tr>\n",
       "      <th>3</th>\n",
       "      <td>8569</td>\n",
       "      <td>8569</td>\n",
       "      <td>8569</td>\n",
       "      <td>8569</td>\n",
       "    </tr>\n",
       "  </tbody>\n",
       "</table>\n",
       "</div>"
      ],
      "text/plain": [
       "           user_id  likes  views   ctr\n",
       "exp_group                             \n",
       "2             8480   8480   8480  8480\n",
       "3             8569   8569   8569  8569"
      ]
     },
     "execution_count": 5,
     "metadata": {},
     "output_type": "execute_result"
    }
   ],
   "source": [
    "# вывели число пользователей в получившихся группах\n",
    "df.groupby('exp_group').count()"
   ]
  },
  {
   "cell_type": "code",
   "execution_count": 6,
   "id": "9713a00c-8d2c-471d-b7ac-a87421026930",
   "metadata": {},
   "outputs": [
    {
     "data": {
      "image/png": "[encoded data removed]",
      "text/plain": [
       "<Figure size 842.4x595.44 with 1 Axes>"
      ]
     },
     "metadata": {},
     "output_type": "display_data"
    }
   ],
   "source": [
    "# сделали графики в seaborn покрупнее\n",
    "sns.set(rc={'figure.figsize':(11.7,8.27)})\n",
    "# гистограммы по обоим группам вместе (на одном рисунке)\n",
    "groups = sns.histplot(data = df, \n",
    "              x='ctr', \n",
    "              hue='exp_group', \n",
    "              palette = ['r', 'b'],\n",
    "              alpha=0.5,\n",
    "              kde=False)"
   ]
  },
  {
   "cell_type": "code",
   "execution_count": 7,
   "id": "1e953f01-94bd-4e59-a58d-130222bf82bd",
   "metadata": {},
   "outputs": [
    {
     "data": {
      "text/plain": [
       "0.45969873156476293"
      ]
     },
     "execution_count": 7,
     "metadata": {},
     "output_type": "execute_result"
    }
   ],
   "source": [
    "# получение результатов t-test по группам 2 и 3 (целым) по показателю ctr\n",
    "t_res = stats.ttest_ind(df[df.exp_group == 2].ctr,\n",
    "                df[df.exp_group == 3].ctr,\n",
    "                equal_var=False)\n",
    "t_res.pvalue"
   ]
  },
  {
   "cell_type": "code",
   "execution_count": 8,
   "id": "2ba58421-67c2-4946-bacd-ed335c98ce3c",
   "metadata": {},
   "outputs": [
    {
     "data": {
      "text/plain": [
       "MannwhitneyuResult(statistic=36124728.5, pvalue=0.5177480614337441)"
      ]
     },
     "execution_count": 8,
     "metadata": {},
     "output_type": "execute_result"
    }
   ],
   "source": [
    "# получение результатов Манна-Уитни по группам 2 и 3 (целым) по показателю ctr\n",
    "stats.mannwhitneyu(df[df.exp_group == 2].ctr, \n",
    "                   df[df.exp_group == 3].ctr,\n",
    "                   alternative = 'two-sided')\n"
   ]
  },
  {
   "cell_type": "markdown",
   "id": "18c0c1a3-587f-4a7f-ad0c-7f09eacb7a26",
   "metadata": {},
   "source": [
    "Выводы: по обоим критериям pvalue > 0.05, различий между группами 2 и 3 (по всем значениям одновременно в каждой из них), нет."
   ]
  },
  {
   "cell_type": "markdown",
   "id": "2a8f5593-759f-46a1-b388-c33f9d2db2a0",
   "metadata": {
    "tags": []
   },
   "source": [
    "## Собственно решение задачи 1 \n",
    "(проверяем корректность системы сплитования, используя бутстреп)"
   ]
  },
  {
   "cell_type": "code",
   "execution_count": 9,
   "id": "a7b4feb8-ed35-4c4a-83a9-93ec797e42bd",
   "metadata": {},
   "outputs": [],
   "source": [
    "# формируем выборку значений pvalue в виде списка p_list\n",
    "sample_length = 500\n",
    "number_of_samples = 10000\n",
    "p_list = []\n",
    "for _ in range(number_of_samples):\n",
    "    a_i = df[df.exp_group == 2].ctr.sample(sample_length, replace = False).tolist()\n",
    "    b_i = df[df.exp_group == 3].ctr.sample(sample_length, replace = False).tolist()\n",
    "    t_res = stats.ttest_ind(a_i, b_i, equal_var=False)\n",
    "    p_list.append(t_res.pvalue)\n",
    "#p_list"
   ]
  },
  {
   "cell_type": "code",
   "execution_count": 10,
   "id": "40549d57-cd7b-4b4f-b86c-31a8afe29e84",
   "metadata": {},
   "outputs": [
    {
     "data": {
      "image/png": "[encoded data removed]",
      "text/plain": [
       "<Figure size 842.4x595.44 with 1 Axes>"
      ]
     },
     "metadata": {},
     "output_type": "display_data"
    }
   ],
   "source": [
    "# строим гистограмму полученных значений pvalue\n",
    "groups = sns.histplot(data = p_list, alpha=0.5, kde=False)"
   ]
  },
  {
   "cell_type": "code",
   "execution_count": 11,
   "id": "085c4dd0-d4b0-4e84-9310-03d40ea39db7",
   "metadata": {},
   "outputs": [
    {
     "data": {
      "text/plain": [
       "0    4.47\n",
       "dtype: float64"
      ]
     },
     "execution_count": 11,
     "metadata": {},
     "output_type": "execute_result"
    }
   ],
   "source": [
    "# теперь рассчитываем процент тех значений,которые меньше 0.05\n",
    "pvl = pd.DataFrame(p_list)\n",
    "p_0_05_perc = 100*(pvl[pvl <= 0.05].count()/number_of_samples)\n",
    "p_0_05_perc"
   ]
  },
  {
   "cell_type": "markdown",
   "id": "2ff2aeae-df2d-43d2-a857-35257c03d4aa",
   "metadata": {},
   "source": [
    "Полученное значение в 4.47% (при том запуске, в котором сохранен ноутбук!) довольно близко к требуемым 5%. И требование о том, чтобы ошибка 1 рода не превышала 5% (при справедливости предположения о равенстве средних в выборках А (группа 2) и В (группа 3)) выполняется. Значит, нет оснований считать, что рассматриваемые выборки различаются в средних значениях. Поскольку это и необходимо на этапе запуска АА-теста, можно считать, что система сплитования  показала себя хорошо (а данные достаточно хорошо представляют генеральную совокупность), и ее можно запускать для проверки АВ-теста.     "
   ]
  },
  {
   "cell_type": "code",
   "execution_count": 13,
   "id": "99b5bb4a-e44e-4e4c-87f6-e7231f435679",
   "metadata": {},
   "outputs": [
    {
     "data": {
      "text/plain": [
       "0    0.055021\n",
       "Name: 0.05, dtype: float64"
      ]
     },
     "execution_count": 13,
     "metadata": {},
     "output_type": "execute_result"
    }
   ],
   "source": [
    "# альтернативный способ - найти выборочный квантиль на уровне 0,05, и определить, насколько он оказался близок к требуемому значению 0.05 \n",
    "pvl.quantile(q=0.05) "
   ]
  },
  {
   "cell_type": "markdown",
   "id": "7cbd884a-79cf-456a-8d75-609277621548",
   "metadata": {},
   "source": [
    "Выводы, как это и было ожидаемо, в целом такие же, как и по предыдущему способу - система сплитования работает хорошо, поскольку значение 0.055021 близко к значению 0.05."
   ]
  }
 ],
 "metadata": {
  "kernelspec": {
   "display_name": "Python 3 (ipykernel)",
   "language": "python",
   "name": "python3"
  },
  "language_info": {
   "codemirror_mode": {
    "name": "ipython",
    "version": 3
   },
   "file_extension": ".py",
   "mimetype": "text/x-python",
   "name": "python",
   "nbconvert_exporter": "python",
   "pygments_lexer": "ipython3",
   "version": "3.10.4"
  }
 },
 "nbformat": 4,
 "nbformat_minor": 5
}
